{
 "cells": [
  {
   "cell_type": "code",
   "execution_count": 1,
   "metadata": {},
   "outputs": [
    {
     "name": "stdout",
     "output_type": "stream",
     "text": [
      "  3.701908 seconds (3.58 M allocations: 211.529 MiB, 2.99% gc time)\n"
     ]
    }
   ],
   "source": [
    "@time using Cxx"
   ]
  },
  {
   "cell_type": "code",
   "execution_count": 2,
   "metadata": {},
   "outputs": [
    {
     "name": "stdout",
     "output_type": "stream",
     "text": [
      "  "
     ]
    },
    {
     "name": "stderr",
     "output_type": "stream",
     "text": [
      "WARNING: imported binding for String overwritten in module std_msgs\n"
     ]
    },
    {
     "name": "stdout",
     "output_type": "stream",
     "text": [
      "4.096198 seconds (1.72 M allocations: 89.953 MiB, 0.66% gc time)\n"
     ]
    }
   ],
   "source": [
    "@time using CxxROS"
   ]
  },
  {
   "cell_type": "code",
   "execution_count": 3,
   "metadata": {},
   "outputs": [],
   "source": [
    "#reload(\"CxxROS\")"
   ]
  },
  {
   "cell_type": "code",
   "execution_count": null,
   "metadata": {},
   "outputs": [],
   "source": []
  },
  {
   "cell_type": "code",
   "execution_count": 4,
   "metadata": {},
   "outputs": [
    {
     "data": {
      "text/plain": [
       "(class boost::shared_ptr<struct sensor_msgs::Imu_<class std::allocator<void> > >) {\n",
       "}\n"
      ]
     },
     "execution_count": 4,
     "metadata": {},
     "output_type": "execute_result"
    }
   ],
   "source": [
    "ptr = BoostSharedPtr{sensor_msgs.Imu}()"
   ]
  },
  {
   "cell_type": "code",
   "execution_count": 5,
   "metadata": {},
   "outputs": [
    {
     "data": {
      "text/plain": [
       "0"
      ]
     },
     "execution_count": 5,
     "metadata": {},
     "output_type": "execute_result"
    }
   ],
   "source": [
    "use_count(ptr)"
   ]
  },
  {
   "cell_type": "code",
   "execution_count": 6,
   "metadata": {},
   "outputs": [
    {
     "data": {
      "text/plain": [
       "(class boost::shared_ptr<struct sensor_msgs::Imu_<class std::allocator<void> > >) {\n",
       "}\n"
      ]
     },
     "execution_count": 6,
     "metadata": {},
     "output_type": "execute_result"
    }
   ],
   "source": [
    "make_shared(ptr)"
   ]
  },
  {
   "cell_type": "code",
   "execution_count": 7,
   "metadata": {},
   "outputs": [
    {
     "data": {
      "text/plain": [
       "1"
      ]
     },
     "execution_count": 7,
     "metadata": {},
     "output_type": "execute_result"
    }
   ],
   "source": [
    "use_count(ptr)"
   ]
  },
  {
   "cell_type": "code",
   "execution_count": 8,
   "metadata": {},
   "outputs": [
    {
     "data": {
      "text/plain": [
       "(struct sensor_msgs::Imu_<class std::allocator<void> > *) @0x000000000cc1c870\n"
      ]
     },
     "execution_count": 8,
     "metadata": {},
     "output_type": "execute_result"
    }
   ],
   "source": [
    "get(ptr)"
   ]
  },
  {
   "cell_type": "code",
   "execution_count": 9,
   "metadata": {},
   "outputs": [
    {
     "data": {
      "text/plain": [
       "(class boost::shared_ptr<struct sensor_msgs::Imu_<class std::allocator<void> > > &) {\n",
       "}\n"
      ]
     },
     "execution_count": 9,
     "metadata": {},
     "output_type": "execute_result"
    }
   ],
   "source": [
    "ptr2 = BoostSharedPtr{sensor_msgs.Imu}()\n",
    "set(ptr2, ptr)"
   ]
  },
  {
   "cell_type": "code",
   "execution_count": 10,
   "metadata": {},
   "outputs": [
    {
     "data": {
      "text/plain": [
       "(2, 2)"
      ]
     },
     "execution_count": 10,
     "metadata": {},
     "output_type": "execute_result"
    }
   ],
   "source": [
    "use_count(ptr), use_count(ptr2)"
   ]
  },
  {
   "cell_type": "code",
   "execution_count": 11,
   "metadata": {},
   "outputs": [],
   "source": [
    "reset(ptr)"
   ]
  },
  {
   "cell_type": "code",
   "execution_count": 12,
   "metadata": {},
   "outputs": [
    {
     "data": {
      "text/plain": [
       "(0, 1)"
      ]
     },
     "execution_count": 12,
     "metadata": {},
     "output_type": "execute_result"
    }
   ],
   "source": [
    "use_count(ptr), use_count(ptr2)"
   ]
  },
  {
   "cell_type": "code",
   "execution_count": 13,
   "metadata": {},
   "outputs": [],
   "source": [
    "reset(ptr2)"
   ]
  },
  {
   "cell_type": "code",
   "execution_count": 14,
   "metadata": {},
   "outputs": [
    {
     "data": {
      "text/plain": [
       "(0, 0)"
      ]
     },
     "execution_count": 14,
     "metadata": {},
     "output_type": "execute_result"
    }
   ],
   "source": [
    "use_count(ptr), use_count(ptr2)"
   ]
  },
  {
   "cell_type": "code",
   "execution_count": null,
   "metadata": {},
   "outputs": [],
   "source": []
  },
  {
   "cell_type": "code",
   "execution_count": 15,
   "metadata": {},
   "outputs": [
    {
     "data": {
      "text/plain": [
       "(class boost::shared_ptr<struct sensor_msgs::Imu_<class std::allocator<void> > >) {\n",
       "}\n"
      ]
     },
     "execution_count": 15,
     "metadata": {},
     "output_type": "execute_result"
    }
   ],
   "source": [
    "ptr = @cxx sensor_msgs::Imu::Ptr()"
   ]
  },
  {
   "cell_type": "code",
   "execution_count": 16,
   "metadata": {},
   "outputs": [
    {
     "data": {
      "text/plain": [
       "(class boost::shared_ptr<struct sensor_msgs::Imu_<class std::allocator<void> > >) {\n",
       "}\n"
      ]
     },
     "execution_count": 16,
     "metadata": {},
     "output_type": "execute_result"
    }
   ],
   "source": [
    "#icxx\"$ptr = boost::make_shared<sensor_msgs::Imu>();\"\n",
    "make_shared(ptr)"
   ]
  },
  {
   "cell_type": "code",
   "execution_count": 17,
   "metadata": {},
   "outputs": [
    {
     "data": {
      "text/plain": [
       "Cxx.CppRef{Cxx.CppTemplate{Cxx.CppBaseType{Symbol(\"boost::shared_ptr\")},Tuple{Cxx.CxxQualType{Cxx.CppTemplate{Cxx.CppBaseType{Symbol(\"sensor_msgs::Imu_\")},Tuple{Cxx.CxxQualType{Cxx.CppTemplate{Cxx.CppBaseType{Symbol(\"std::allocator\")},Tuple{Void}},(false, false, false)}}},(false, false, false)}}},(false, false, false)}"
      ]
     },
     "execution_count": 17,
     "metadata": {},
     "output_type": "execute_result"
    }
   ],
   "source": [
    "typeof(icxx\"$ptr;\")"
   ]
  },
  {
   "cell_type": "code",
   "execution_count": 18,
   "metadata": {},
   "outputs": [],
   "source": [
    "msg = icxx\"*($ptr.get());\";"
   ]
  },
  {
   "cell_type": "code",
   "execution_count": 19,
   "metadata": {},
   "outputs": [
    {
     "data": {
      "text/plain": [
       "Cxx.CppRef{Cxx.CppTemplate{Cxx.CppBaseType{Symbol(\"sensor_msgs::Imu_\")},Tuple{Cxx.CxxQualType{Cxx.CppTemplate{Cxx.CppBaseType{Symbol(\"std::allocator\")},Tuple{Void}},(false, false, false)}}},(false, false, false)}"
      ]
     },
     "execution_count": 19,
     "metadata": {},
     "output_type": "execute_result"
    }
   ],
   "source": [
    "typeof(icxx\"$msg;\")"
   ]
  },
  {
   "cell_type": "code",
   "execution_count": 20,
   "metadata": {},
   "outputs": [
    {
     "data": {
      "text/plain": [
       "(struct geometry_msgs::Quaternion_<class std::allocator<void> > *) @0x000000000d7ec670\n"
      ]
     },
     "execution_count": 20,
     "metadata": {},
     "output_type": "execute_result"
    }
   ],
   "source": [
    "v0 = icxx\"&($ptr->orientation);\""
   ]
  },
  {
   "cell_type": "code",
   "execution_count": 21,
   "metadata": {},
   "outputs": [
    {
     "data": {
      "text/plain": [
       "Cxx.CppPtr{Cxx.CxxQualType{Cxx.CppTemplate{Cxx.CppBaseType{Symbol(\"geometry_msgs::Quaternion_\")},Tuple{Cxx.CxxQualType{Cxx.CppTemplate{Cxx.CppBaseType{Symbol(\"std::allocator\")},Tuple{Void}},(false, false, false)}}},(false, false, false)},(false, false, false)}"
      ]
     },
     "execution_count": 21,
     "metadata": {},
     "output_type": "execute_result"
    }
   ],
   "source": [
    "typeof(v0)"
   ]
  },
  {
   "cell_type": "code",
   "execution_count": 22,
   "metadata": {},
   "outputs": [
    {
     "data": {
      "text/plain": [
       "true"
      ]
     },
     "execution_count": 22,
     "metadata": {},
     "output_type": "execute_result"
    }
   ],
   "source": [
    "typeof(v0) <: geometry_msgs.QuaternionP"
   ]
  },
  {
   "cell_type": "code",
   "execution_count": 23,
   "metadata": {},
   "outputs": [
    {
     "data": {
      "text/plain": [
       "4-element CxxStd.WrappedCppPrimArray{Float64}:\n",
       " 0.0\n",
       " 0.0\n",
       " 0.0\n",
       " 0.0"
      ]
     },
     "execution_count": 23,
     "metadata": {},
     "output_type": "execute_result"
    }
   ],
   "source": [
    "DenseArray(v0)"
   ]
  },
  {
   "cell_type": "code",
   "execution_count": 24,
   "metadata": {},
   "outputs": [
    {
     "data": {
      "text/plain": [
       "4-element Array{Float64,1}:\n",
       " 1.0\n",
       " 2.0\n",
       " 3.0\n",
       " 4.0"
      ]
     },
     "execution_count": 24,
     "metadata": {},
     "output_type": "execute_result"
    }
   ],
   "source": [
    "DenseArray(v0)[:] = Float64[1,2,3,4]"
   ]
  },
  {
   "cell_type": "code",
   "execution_count": 25,
   "metadata": {},
   "outputs": [
    {
     "data": {
      "text/plain": [
       "(struct geometry_msgs::Quaternion_<class std::allocator<void> >) {\n",
       " .x = (double &) 1.0\n",
       " .y = (double &) 2.0\n",
       " .z = (double &) 3.0\n",
       " .w = (double &) 4.0\n",
       "}\n"
      ]
     },
     "execution_count": 25,
     "metadata": {},
     "output_type": "execute_result"
    }
   ],
   "source": [
    "icxx\"$msg.orientation;\""
   ]
  },
  {
   "cell_type": "code",
   "execution_count": null,
   "metadata": {},
   "outputs": [],
   "source": []
  },
  {
   "cell_type": "code",
   "execution_count": 26,
   "metadata": {},
   "outputs": [
    {
     "data": {
      "text/plain": [
       "(struct geometry_msgs::Quaternion_<class std::allocator<void> > &) {\n",
       " .x = (double &) 1.0\n",
       " .y = (double &) 2.0\n",
       " .z = (double &) 3.0\n",
       " .w = (double &) 4.0\n",
       "}\n"
      ]
     },
     "execution_count": 26,
     "metadata": {},
     "output_type": "execute_result"
    }
   ],
   "source": [
    "#v0 = icxx\"(geometry_msgs::Quaternion&) *$v;\"\n",
    "v1 = geometry_msgs.QuaternionR(v0)"
   ]
  },
  {
   "cell_type": "code",
   "execution_count": 27,
   "metadata": {},
   "outputs": [
    {
     "data": {
      "text/plain": [
       "4-element Array{Float64,1}:\n",
       " 4.0\n",
       " 3.0\n",
       " 2.0\n",
       " 1.0"
      ]
     },
     "execution_count": 27,
     "metadata": {},
     "output_type": "execute_result"
    }
   ],
   "source": [
    "DenseArray(v1)[:] = Float64[4,3,2,1]"
   ]
  },
  {
   "cell_type": "code",
   "execution_count": 28,
   "metadata": {},
   "outputs": [
    {
     "data": {
      "text/plain": [
       "(struct geometry_msgs::Quaternion_<class std::allocator<void> >) {\n",
       " .x = (double &) 4.0\n",
       " .y = (double &) 3.0\n",
       " .z = (double &) 2.0\n",
       " .w = (double &) 1.0\n",
       "}\n"
      ]
     },
     "execution_count": 28,
     "metadata": {},
     "output_type": "execute_result"
    }
   ],
   "source": [
    "icxx\"$msg.orientation;\""
   ]
  },
  {
   "cell_type": "code",
   "execution_count": 29,
   "metadata": {},
   "outputs": [
    {
     "data": {
      "text/plain": [
       "(struct sensor_msgs::Imu_<class std::allocator<void> > &) {\n",
       " .header = (struct std_msgs::Header_<class std::allocator<void> > &) {\n",
       " .seq = (unsigned int &) 0\n",
       " .stamp = (class ros::Time &) {\n",
       "}\n",
       "\n",
       " .frame_id = (class std::__cxx11::basic_string<char> &) {\n",
       "}\n",
       "\n",
       "}\n",
       "\n",
       " .orientation = (struct geometry_msgs::Quaternion_<class std::allocator<void> > &) {\n",
       " .x = (double &) 4.0\n",
       " .y = (double &) 3.0\n",
       " .z = (double &) 2.0\n",
       " .w = (double &) 1.0\n",
       "}\n",
       "\n",
       " .orientation_covariance = (class boost::array<double, 9> &) {\n",
       " .elems = Array<Float64,1>\n",
       "\n",
       "}\n",
       "\n",
       " .angular_velocity = (struct geometry_msgs::Vector3_<class std::allocator<void> > &) {\n",
       " .x = (double &) 0.0\n",
       " .y = (double &) 0.0\n",
       " .z = (double &) 0.0\n",
       "}\n",
       "\n",
       " .angular_velocity_covariance = (class boost::array<double, 9> &) {\n",
       " .elems = Array<Float64,1>\n",
       "\n",
       "}\n",
       "\n",
       " .linear_acceleration = (struct geometry_msgs::Vector3_<class std::allocator<void> > &) {\n",
       " .x = (double &) 0.0\n",
       " .y = (double &) 0.0\n",
       " .z = (double &) 0.0\n",
       "}\n",
       "\n",
       " .linear_acceleration_covariance = (class boost::array<double, 9> &) {\n",
       " .elems = Array<Float64,1>\n",
       "\n",
       "}\n",
       "\n",
       "}\n"
      ]
     },
     "execution_count": 29,
     "metadata": {},
     "output_type": "execute_result"
    }
   ],
   "source": [
    "msg"
   ]
  },
  {
   "cell_type": "code",
   "execution_count": null,
   "metadata": {},
   "outputs": [],
   "source": []
  }
 ],
 "metadata": {
  "kernelspec": {
   "display_name": "Julia 0.6.2",
   "language": "julia",
   "name": "julia-0.6"
  },
  "language_info": {
   "file_extension": ".jl",
   "mimetype": "application/julia",
   "name": "julia",
   "version": "0.6.2"
  }
 },
 "nbformat": 4,
 "nbformat_minor": 2
}
