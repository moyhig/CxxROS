{
 "cells": [
  {
   "cell_type": "code",
   "execution_count": 1,
   "metadata": {},
   "outputs": [
    {
     "name": "stdout",
     "output_type": "stream",
     "text": [
      "  3.741405 seconds (3.58 M allocations: 211.529 MiB, 3.17% gc time)\n"
     ]
    }
   ],
   "source": [
    "@time using Cxx"
   ]
  },
  {
   "cell_type": "code",
   "execution_count": 2,
   "metadata": {},
   "outputs": [
    {
     "name": "stdout",
     "output_type": "stream",
     "text": [
      "  3.890093 seconds (1.70 M allocations: 88.202 MiB, 0.64% gc time)\n"
     ]
    },
    {
     "name": "stderr",
     "output_type": "stream",
     "text": [
      "WARNING: imported binding for String overwritten in module std_msgs\n"
     ]
    }
   ],
   "source": [
    "@time using CxxROS"
   ]
  },
  {
   "cell_type": "code",
   "execution_count": 3,
   "metadata": {},
   "outputs": [],
   "source": [
    "#reload(\"CxxROS\")"
   ]
  },
  {
   "cell_type": "code",
   "execution_count": null,
   "metadata": {},
   "outputs": [],
   "source": []
  },
  {
   "cell_type": "code",
   "execution_count": 14,
   "metadata": {},
   "outputs": [],
   "source": [
    "msg = sensor_msgs.Imu();"
   ]
  },
  {
   "cell_type": "code",
   "execution_count": 15,
   "metadata": {},
   "outputs": [
    {
     "data": {
      "text/plain": [
       "(struct geometry_msgs::Quaternion_<class std::allocator<void> > &) {\n",
       " .x = (double &) 0.0\n",
       " .y = (double &) 0.0\n",
       " .z = (double &) 0.0\n",
       " .w = (double &) 0.0\n",
       "}\n"
      ]
     },
     "execution_count": 15,
     "metadata": {},
     "output_type": "execute_result"
    }
   ],
   "source": [
    "# we should explicitly aquire the reference by cast\n",
    "v0 = icxx\"(geometry_msgs::Quaternion&) $msg.orientation;\""
   ]
  },
  {
   "cell_type": "code",
   "execution_count": 16,
   "metadata": {},
   "outputs": [
    {
     "data": {
      "text/plain": [
       "4-element CxxStd.WrappedCppPrimArray{Float64}:\n",
       " 0.0\n",
       " 0.0\n",
       " 0.0\n",
       " 0.0"
      ]
     },
     "execution_count": 16,
     "metadata": {},
     "output_type": "execute_result"
    }
   ],
   "source": [
    "DenseArray(v0)"
   ]
  },
  {
   "cell_type": "code",
   "execution_count": 17,
   "metadata": {},
   "outputs": [
    {
     "data": {
      "text/plain": [
       "false"
      ]
     },
     "execution_count": 17,
     "metadata": {},
     "output_type": "execute_result"
    }
   ],
   "source": [
    "typeof(v0) <: geometry_msgs.Quaternion"
   ]
  },
  {
   "cell_type": "code",
   "execution_count": 18,
   "metadata": {},
   "outputs": [
    {
     "data": {
      "text/plain": [
       "true"
      ]
     },
     "execution_count": 18,
     "metadata": {},
     "output_type": "execute_result"
    }
   ],
   "source": [
    "typeof(v0) <: geometry_msgs.QuaternionR"
   ]
  },
  {
   "cell_type": "code",
   "execution_count": 19,
   "metadata": {},
   "outputs": [
    {
     "data": {
      "text/plain": [
       "4-element Array{Float64,1}:\n",
       " 1.0\n",
       " 2.0\n",
       " 3.0\n",
       " 4.0"
      ]
     },
     "execution_count": 19,
     "metadata": {},
     "output_type": "execute_result"
    }
   ],
   "source": [
    "DenseArray(v0)[:] = Float64[1,2,3,4]"
   ]
  },
  {
   "cell_type": "code",
   "execution_count": 20,
   "metadata": {},
   "outputs": [
    {
     "data": {
      "text/plain": [
       "4-element CxxStd.WrappedCppPrimArray{Float64}:\n",
       " 1.0\n",
       " 2.0\n",
       " 3.0\n",
       " 4.0"
      ]
     },
     "execution_count": 20,
     "metadata": {},
     "output_type": "execute_result"
    }
   ],
   "source": [
    "DenseArray(v0)"
   ]
  },
  {
   "cell_type": "code",
   "execution_count": 21,
   "metadata": {},
   "outputs": [
    {
     "data": {
      "text/plain": [
       "(struct geometry_msgs::Quaternion_<class std::allocator<void> >) {\n",
       " .x = (double &) 1.0\n",
       " .y = (double &) 2.0\n",
       " .z = (double &) 3.0\n",
       " .w = (double &) 4.0\n",
       "}\n"
      ]
     },
     "execution_count": 21,
     "metadata": {},
     "output_type": "execute_result"
    }
   ],
   "source": [
    "icxx\"$msg.orientation;\""
   ]
  },
  {
   "cell_type": "code",
   "execution_count": 22,
   "metadata": {},
   "outputs": [
    {
     "data": {
      "text/plain": [
       "(struct sensor_msgs::Imu_<class std::allocator<void> >) {\n",
       " .header = (struct std_msgs::Header_<class std::allocator<void> > &) {\n",
       " .seq = (unsigned int &) 0\n",
       " .stamp = (class ros::Time &) {\n",
       "}\n",
       "\n",
       " .frame_id = (class std::__cxx11::basic_string<char> &) {\n",
       "}\n",
       "\n",
       "}\n",
       "\n",
       " .orientation = (struct geometry_msgs::Quaternion_<class std::allocator<void> > &) {\n",
       " .x = (double &) 1.0\n",
       " .y = (double &) 2.0\n",
       " .z = (double &) 3.0\n",
       " .w = (double &) 4.0\n",
       "}\n",
       "\n",
       " .orientation_covariance = (class boost::array<double, 9> &) {\n",
       " .elems = Array<Float64,1>\n",
       "\n",
       "}\n",
       "\n",
       " .angular_velocity = (struct geometry_msgs::Vector3_<class std::allocator<void> > &) {\n",
       " .x = (double &) 0.0\n",
       " .y = (double &) 0.0\n",
       " .z = (double &) 0.0\n",
       "}\n",
       "\n",
       " .angular_velocity_covariance = (class boost::array<double, 9> &) {\n",
       " .elems = Array<Float64,1>\n",
       "\n",
       "}\n",
       "\n",
       " .linear_acceleration = (struct geometry_msgs::Vector3_<class std::allocator<void> > &) {\n",
       " .x = (double &) 0.0\n",
       " .y = (double &) 0.0\n",
       " .z = (double &) 0.0\n",
       "}\n",
       "\n",
       " .linear_acceleration_covariance = (class boost::array<double, 9> &) {\n",
       " .elems = Array<Float64,1>\n",
       "\n",
       "}\n",
       "\n",
       "}\n"
      ]
     },
     "execution_count": 22,
     "metadata": {},
     "output_type": "execute_result"
    }
   ],
   "source": [
    "msg"
   ]
  },
  {
   "cell_type": "code",
   "execution_count": null,
   "metadata": {},
   "outputs": [],
   "source": []
  }
 ],
 "metadata": {
  "kernelspec": {
   "display_name": "Julia 0.6.2",
   "language": "julia",
   "name": "julia-0.6"
  },
  "language_info": {
   "file_extension": ".jl",
   "mimetype": "application/julia",
   "name": "julia",
   "version": "0.6.2"
  }
 },
 "nbformat": 4,
 "nbformat_minor": 2
}
