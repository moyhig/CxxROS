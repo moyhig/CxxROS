{
 "cells": [
  {
   "cell_type": "code",
   "execution_count": 1,
   "metadata": {},
   "outputs": [
    {
     "name": "stdout",
     "output_type": "stream",
     "text": [
      "  4.138793 seconds (3.58 M allocations: 211.529 MiB, 2.88% gc time)\n"
     ]
    }
   ],
   "source": [
    "@time using Cxx"
   ]
  },
  {
   "cell_type": "code",
   "execution_count": 2,
   "metadata": {},
   "outputs": [
    {
     "name": "stdout",
     "output_type": "stream",
     "text": [
      "  4.020825 seconds (1.72 M allocations: 89.953 MiB, 0.63% gc time)\n"
     ]
    },
    {
     "name": "stderr",
     "output_type": "stream",
     "text": [
      "WARNING: imported binding for String overwritten in module std_msgs\n"
     ]
    }
   ],
   "source": [
    "@time using CxxROS"
   ]
  },
  {
   "cell_type": "code",
   "execution_count": 3,
   "metadata": {},
   "outputs": [],
   "source": [
    "#reload(\"CxxROS\")"
   ]
  },
  {
   "cell_type": "code",
   "execution_count": null,
   "metadata": {},
   "outputs": [],
   "source": []
  },
  {
   "cell_type": "code",
   "execution_count": 4,
   "metadata": {},
   "outputs": [],
   "source": [
    "msg = sensor_msgs.Imu();"
   ]
  },
  {
   "cell_type": "code",
   "execution_count": 5,
   "metadata": {},
   "outputs": [
    {
     "data": {
      "text/plain": [
       "(struct geometry_msgs::Quaternion_<class std::allocator<void> > *) @0x00007f5874eaed90\n"
      ]
     },
     "execution_count": 5,
     "metadata": {},
     "output_type": "execute_result"
    }
   ],
   "source": [
    "v0 = icxx\"&($msg.orientation);\""
   ]
  },
  {
   "cell_type": "code",
   "execution_count": 6,
   "metadata": {},
   "outputs": [
    {
     "data": {
      "text/plain": [
       "true"
      ]
     },
     "execution_count": 6,
     "metadata": {},
     "output_type": "execute_result"
    }
   ],
   "source": [
    "typeof(icxx\"$v0;\") <: geometry_msgs.QuaternionP"
   ]
  },
  {
   "cell_type": "code",
   "execution_count": 7,
   "metadata": {},
   "outputs": [
    {
     "data": {
      "text/plain": [
       "4-element CxxStd.WrappedCppPrimArray{Float64}:\n",
       " 0.0\n",
       " 0.0\n",
       " 0.0\n",
       " 0.0"
      ]
     },
     "execution_count": 7,
     "metadata": {},
     "output_type": "execute_result"
    }
   ],
   "source": [
    "DenseArray(v0)"
   ]
  },
  {
   "cell_type": "code",
   "execution_count": 8,
   "metadata": {},
   "outputs": [
    {
     "data": {
      "text/plain": [
       "4-element Array{Float64,1}:\n",
       " 1.0\n",
       " 2.0\n",
       " 3.0\n",
       " 4.0"
      ]
     },
     "execution_count": 8,
     "metadata": {},
     "output_type": "execute_result"
    }
   ],
   "source": [
    "DenseArray(v0)[:] = Float64[1,2,3,4]"
   ]
  },
  {
   "cell_type": "code",
   "execution_count": 9,
   "metadata": {},
   "outputs": [
    {
     "data": {
      "text/plain": [
       "4-element CxxStd.WrappedCppPrimArray{Float64}:\n",
       " 1.0\n",
       " 2.0\n",
       " 3.0\n",
       " 4.0"
      ]
     },
     "execution_count": 9,
     "metadata": {},
     "output_type": "execute_result"
    }
   ],
   "source": [
    "DenseArray(v0)"
   ]
  },
  {
   "cell_type": "code",
   "execution_count": 10,
   "metadata": {},
   "outputs": [
    {
     "data": {
      "text/plain": [
       "(struct geometry_msgs::Quaternion_<class std::allocator<void> >) {\n",
       " .x = (double &) 1.0\n",
       " .y = (double &) 2.0\n",
       " .z = (double &) 3.0\n",
       " .w = (double &) 4.0\n",
       "}\n"
      ]
     },
     "execution_count": 10,
     "metadata": {},
     "output_type": "execute_result"
    }
   ],
   "source": [
    "icxx\"$msg.orientation;\""
   ]
  },
  {
   "cell_type": "code",
   "execution_count": null,
   "metadata": {},
   "outputs": [],
   "source": []
  },
  {
   "cell_type": "code",
   "execution_count": 11,
   "metadata": {},
   "outputs": [
    {
     "data": {
      "text/plain": [
       "(struct geometry_msgs::Quaternion_<class std::allocator<void> > &) {\n",
       " .x = (double &) 1.0\n",
       " .y = (double &) 2.0\n",
       " .z = (double &) 3.0\n",
       " .w = (double &) 4.0\n",
       "}\n"
      ]
     },
     "execution_count": 11,
     "metadata": {},
     "output_type": "execute_result"
    }
   ],
   "source": [
    "# we should explicitly aquire the reference by cast\n",
    "#v0 = icxx\"(geometry_msgs::Quaternion&) $msg.orientation;\"\n",
    "\n",
    "#v0 = convert(geometry_msgs.QuaternionR, icxx\"&$msg.orientation;\")\n",
    "#v0 = geometry_msgs.QuaternionR(v)\n",
    "\n",
    "v1 = geometry_msgs.QuaternionR(icxx\"&($msg.orientation);\")"
   ]
  },
  {
   "cell_type": "code",
   "execution_count": 12,
   "metadata": {},
   "outputs": [
    {
     "data": {
      "text/plain": [
       "true"
      ]
     },
     "execution_count": 12,
     "metadata": {},
     "output_type": "execute_result"
    }
   ],
   "source": [
    "typeof(v1) <: geometry_msgs.QuaternionR"
   ]
  },
  {
   "cell_type": "code",
   "execution_count": 13,
   "metadata": {},
   "outputs": [
    {
     "data": {
      "text/plain": [
       "4-element Array{Float64,1}:\n",
       " 4.0\n",
       " 3.0\n",
       " 2.0\n",
       " 1.0"
      ]
     },
     "execution_count": 13,
     "metadata": {},
     "output_type": "execute_result"
    }
   ],
   "source": [
    "DenseArray(v0)[:] = Float64[4,3,2,1]"
   ]
  },
  {
   "cell_type": "code",
   "execution_count": 14,
   "metadata": {},
   "outputs": [
    {
     "data": {
      "text/plain": [
       "(struct geometry_msgs::Quaternion_<class std::allocator<void> >) {\n",
       " .x = (double &) 4.0\n",
       " .y = (double &) 3.0\n",
       " .z = (double &) 2.0\n",
       " .w = (double &) 1.0\n",
       "}\n"
      ]
     },
     "execution_count": 14,
     "metadata": {},
     "output_type": "execute_result"
    }
   ],
   "source": [
    "icxx\"$msg.orientation;\""
   ]
  },
  {
   "cell_type": "code",
   "execution_count": 15,
   "metadata": {},
   "outputs": [
    {
     "data": {
      "text/plain": [
       "(struct sensor_msgs::Imu_<class std::allocator<void> >) {\n",
       " .header = (struct std_msgs::Header_<class std::allocator<void> > &) {\n",
       " .seq = (unsigned int &) 0\n",
       " .stamp = (class ros::Time &) {\n",
       "}\n",
       "\n",
       " .frame_id = (class std::__cxx11::basic_string<char> &) {\n",
       "}\n",
       "\n",
       "}\n",
       "\n",
       " .orientation = (struct geometry_msgs::Quaternion_<class std::allocator<void> > &) {\n",
       " .x = (double &) 4.0\n",
       " .y = (double &) 3.0\n",
       " .z = (double &) 2.0\n",
       " .w = (double &) 1.0\n",
       "}\n",
       "\n",
       " .orientation_covariance = (class boost::array<double, 9> &) {\n",
       " .elems = Array<Float64,1>\n",
       "\n",
       "}\n",
       "\n",
       " .angular_velocity = (struct geometry_msgs::Vector3_<class std::allocator<void> > &) {\n",
       " .x = (double &) 0.0\n",
       " .y = (double &) 0.0\n",
       " .z = (double &) 0.0\n",
       "}\n",
       "\n",
       " .angular_velocity_covariance = (class boost::array<double, 9> &) {\n",
       " .elems = Array<Float64,1>\n",
       "\n",
       "}\n",
       "\n",
       " .linear_acceleration = (struct geometry_msgs::Vector3_<class std::allocator<void> > &) {\n",
       " .x = (double &) 0.0\n",
       " .y = (double &) 0.0\n",
       " .z = (double &) 0.0\n",
       "}\n",
       "\n",
       " .linear_acceleration_covariance = (class boost::array<double, 9> &) {\n",
       " .elems = Array<Float64,1>\n",
       "\n",
       "}\n",
       "\n",
       "}\n"
      ]
     },
     "execution_count": 15,
     "metadata": {},
     "output_type": "execute_result"
    }
   ],
   "source": [
    "msg"
   ]
  },
  {
   "cell_type": "code",
   "execution_count": null,
   "metadata": {},
   "outputs": [],
   "source": []
  }
 ],
 "metadata": {
  "kernelspec": {
   "display_name": "Julia 0.6.2",
   "language": "julia",
   "name": "julia-0.6"
  },
  "language_info": {
   "file_extension": ".jl",
   "mimetype": "application/julia",
   "name": "julia",
   "version": "0.6.2"
  }
 },
 "nbformat": 4,
 "nbformat_minor": 2
}
