{
 "cells": [
  {
   "cell_type": "code",
   "execution_count": 1,
   "metadata": {},
   "outputs": [
    {
     "name": "stdout",
     "output_type": "stream",
     "text": [
      "  4.074787 seconds (3.58 M allocations: 211.529 MiB, 2.95% gc time)\n"
     ]
    }
   ],
   "source": [
    "@time using Cxx\n",
    "#using CxxStd: StdVector"
   ]
  },
  {
   "cell_type": "markdown",
   "metadata": {},
   "source": [
    "CxxROS will replace `CxxStd.StdVector` to separate `CxxROS.StdVector` and `CxxROS.StdVectorR`:\n",
    "```julia\n",
    "CxxStd.StdVector = Union{CxxROS.StdVector, CxxROS.StdVectorR}\n",
    "```"
   ]
  },
  {
   "cell_type": "code",
   "execution_count": 2,
   "metadata": {},
   "outputs": [
    {
     "name": "stdout",
     "output_type": "stream",
     "text": [
      "  3.961324 seconds (1.68 M allocations: 86.745 MiB, 0.66% gc time)\n"
     ]
    },
    {
     "name": "stderr",
     "output_type": "stream",
     "text": [
      "WARNING: imported binding for String overwritten in module std_msgs\n"
     ]
    }
   ],
   "source": [
    "@time using CxxROS: StdVector, StdVectorR"
   ]
  },
  {
   "cell_type": "markdown",
   "metadata": {},
   "source": [
    "code is in [CxxROS/src/std.jl](../../src/std.jl)"
   ]
  },
  {
   "cell_type": "code",
   "execution_count": 3,
   "metadata": {},
   "outputs": [
    {
     "data": {
      "text/plain": [
       "(class std::vector<long, class std::allocator<long> >) {\n",
       "}\n"
      ]
     },
     "execution_count": 3,
     "metadata": {},
     "output_type": "execute_result"
    }
   ],
   "source": [
    "#v0 = convert(cxxt\"std::vector<$Int64>\", Int64[1,2,3])\n",
    "#v0 = cxxt\"std::vector<$Int64>\"(Int64[1,2,-3])\n",
    "\n",
    "v0 = StdVector{Int64}([1,2,3])"
   ]
  },
  {
   "cell_type": "markdown",
   "metadata": {},
   "source": [
    "`std::vector<T>` object is able be wrapped to `DenseArray{T}`"
   ]
  },
  {
   "cell_type": "code",
   "execution_count": 5,
   "metadata": {},
   "outputs": [
    {
     "data": {
      "text/plain": [
       "3-element CxxStd.WrappedCppPrimArray{Int64}:\n",
       " 1\n",
       " 2\n",
       " 3"
      ]
     },
     "execution_count": 5,
     "metadata": {},
     "output_type": "execute_result"
    }
   ],
   "source": [
    "DenseArray(v0)"
   ]
  },
  {
   "cell_type": "code",
   "execution_count": 6,
   "metadata": {},
   "outputs": [
    {
     "data": {
      "text/plain": [
       "(class std::vector<long, class std::allocator<long> > &) {\n",
       "}\n"
      ]
     },
     "execution_count": 6,
     "metadata": {},
     "output_type": "execute_result"
    }
   ],
   "source": [
    "#v1 = convert(cxxt\"std::vector<$Int64>&\", v0)\n",
    "#v1 = cxxt\"std::vector<$Int64>&\"(v0)\n",
    "\n",
    "v1 = StdVectorR{Int64}(v0)"
   ]
  },
  {
   "cell_type": "markdown",
   "metadata": {},
   "source": [
    "`CxxROS.StdVectorR` returns C++ reference, and wrapped array is able to access directry from Julia"
   ]
  },
  {
   "cell_type": "code",
   "execution_count": 9,
   "metadata": {},
   "outputs": [
    {
     "data": {
      "text/plain": [
       "3-element Array{Int64,1}:\n",
       " 4\n",
       " 5\n",
       " 6"
      ]
     },
     "execution_count": 9,
     "metadata": {},
     "output_type": "execute_result"
    }
   ],
   "source": [
    "DenseArray(v1)[:] = [4,5,6]"
   ]
  },
  {
   "cell_type": "code",
   "execution_count": 10,
   "metadata": {},
   "outputs": [
    {
     "data": {
      "text/plain": [
       "3-element CxxStd.WrappedCppPrimArray{Int64}:\n",
       " 4\n",
       " 5\n",
       " 6"
      ]
     },
     "execution_count": 10,
     "metadata": {},
     "output_type": "execute_result"
    }
   ],
   "source": [
    "DenseArray(v0)"
   ]
  },
  {
   "cell_type": "code",
   "execution_count": null,
   "metadata": {},
   "outputs": [],
   "source": []
  },
  {
   "cell_type": "markdown",
   "metadata": {},
   "source": [
    "### the rest is workaround"
   ]
  },
  {
   "cell_type": "code",
   "execution_count": 2,
   "metadata": {},
   "outputs": [
    {
     "ename": "LoadError",
     "evalue": "\u001b[91mUnrecognized CPP Expression std::vector < $(Expr(:$, :Int64)) > 3 (comparison)\u001b[39m",
     "output_type": "error",
     "traceback": [
      "\u001b[91mUnrecognized CPP Expression std::vector < $(Expr(:$, :Int64)) > 3 (comparison)\u001b[39m",
      "",
      "Stacktrace:",
      " [1] \u001b[1minclude_string\u001b[22m\u001b[22m\u001b[1m(\u001b[22m\u001b[22m::String, ::String\u001b[1m)\u001b[22m\u001b[22m at \u001b[1m./loading.jl:522\u001b[22m\u001b[22m"
     ]
    }
   ],
   "source": [
    "v = @cxx std::vector<$Int64>(3)"
   ]
  },
  {
   "cell_type": "code",
   "execution_count": 4,
   "metadata": {},
   "outputs": [
    {
     "data": {
      "text/plain": [
       "(class std::vector<long, class std::allocator<long> >) {\n",
       "}\n"
      ]
     },
     "execution_count": 4,
     "metadata": {},
     "output_type": "execute_result"
    }
   ],
   "source": [
    "v0 = icxx\"std::vector<$Int64>(3);\""
   ]
  },
  {
   "cell_type": "code",
   "execution_count": 6,
   "metadata": {},
   "outputs": [
    {
     "data": {
      "text/plain": [
       "(class std::vector<long, class std::allocator<long> > &) {\n",
       "}\n"
      ]
     },
     "execution_count": 6,
     "metadata": {},
     "output_type": "execute_result"
    }
   ],
   "source": [
    "v1 = icxx\"(std::vector<$Int64>&) $v0;\""
   ]
  },
  {
   "cell_type": "code",
   "execution_count": 11,
   "metadata": {},
   "outputs": [
    {
     "data": {
      "text/plain": [
       "(Int64, (3,))"
      ]
     },
     "execution_count": 11,
     "metadata": {},
     "output_type": "execute_result"
    }
   ],
   "source": [
    "eltype(v1), size(v1)"
   ]
  },
  {
   "cell_type": "code",
   "execution_count": 8,
   "metadata": {},
   "outputs": [
    {
     "data": {
      "text/plain": [
       "3-element Array{Int64,1}:\n",
       " 1\n",
       " 2\n",
       " 3"
      ]
     },
     "execution_count": 8,
     "metadata": {},
     "output_type": "execute_result"
    }
   ],
   "source": [
    "DenseArray(v1)[:] = Int64[1,2,3]"
   ]
  },
  {
   "cell_type": "code",
   "execution_count": 9,
   "metadata": {},
   "outputs": [
    {
     "data": {
      "text/plain": [
       "3-element CxxStd.WrappedCppPrimArray{Int64}:\n",
       " 1\n",
       " 2\n",
       " 3"
      ]
     },
     "execution_count": 9,
     "metadata": {},
     "output_type": "execute_result"
    }
   ],
   "source": [
    "DenseArray(v1)"
   ]
  },
  {
   "cell_type": "code",
   "execution_count": null,
   "metadata": {},
   "outputs": [],
   "source": []
  },
  {
   "cell_type": "code",
   "execution_count": null,
   "metadata": {},
   "outputs": [],
   "source": []
  },
  {
   "cell_type": "code",
   "execution_count": 14,
   "metadata": {},
   "outputs": [
    {
     "data": {
      "text/plain": [
       "(class std::vector<long, class std::allocator<long> >) {\n",
       "}\n"
      ]
     },
     "execution_count": 14,
     "metadata": {},
     "output_type": "execute_result"
    }
   ],
   "source": []
  },
  {
   "cell_type": "code",
   "execution_count": 15,
   "metadata": {},
   "outputs": [
    {
     "data": {
      "text/plain": [
       "Cxx.CppValue{Cxx.CxxQualType{Cxx.CppTemplate{Cxx.CppBaseType{Symbol(\"std::vector\")},Tuple{T,Cxx.CxxQualType{Cxx.CppTemplate{Cxx.CppBaseType{Symbol(\"std::allocator\")},Tuple{T}},(false, false, false)}}},(false, false, false)},N} where N where T"
      ]
     },
     "execution_count": 15,
     "metadata": {},
     "output_type": "execute_result"
    }
   ],
   "source": [
    "const StdVectorR{T} = cxxt\"std::vector<$T>\""
   ]
  },
  {
   "cell_type": "code",
   "execution_count": 16,
   "metadata": {},
   "outputs": [
    {
     "data": {
      "text/plain": [
       "(class std::vector<long, class std::allocator<long> >) {\n",
       "}\n"
      ]
     },
     "execution_count": 16,
     "metadata": {},
     "output_type": "execute_result"
    }
   ],
   "source": [
    "v1 = StdVectorR{Int64}(v0)"
   ]
  },
  {
   "cell_type": "code",
   "execution_count": 18,
   "metadata": {},
   "outputs": [
    {
     "data": {
      "text/plain": [
       "3-element Array{Int64,1}:\n",
       " 4\n",
       " 5\n",
       " 6"
      ]
     },
     "execution_count": 18,
     "metadata": {},
     "output_type": "execute_result"
    }
   ],
   "source": [
    "DenseArray(v1)[:] = [4,5,6]"
   ]
  },
  {
   "cell_type": "code",
   "execution_count": 19,
   "metadata": {},
   "outputs": [
    {
     "data": {
      "text/plain": [
       "3-element CxxStd.WrappedCppPrimArray{Int64}:\n",
       " 4\n",
       " 5\n",
       " 6"
      ]
     },
     "execution_count": 19,
     "metadata": {},
     "output_type": "execute_result"
    }
   ],
   "source": [
    "DenseArray(v0)"
   ]
  },
  {
   "cell_type": "code",
   "execution_count": 20,
   "metadata": {},
   "outputs": [
    {
     "data": {
      "text/plain": [
       "Cxx.CppValue{Cxx.CxxQualType{Cxx.CppTemplate{Cxx.CppBaseType{Symbol(\"std::vector\")},Tuple{T,Cxx.CxxQualType{Cxx.CppTemplate{Cxx.CppBaseType{Symbol(\"std::allocator\")},Tuple{T}},(false, false, false)}}},(false, false, false)},N} where N where T"
      ]
     },
     "execution_count": 20,
     "metadata": {},
     "output_type": "execute_result"
    }
   ],
   "source": [
    "StdVector"
   ]
  },
  {
   "cell_type": "code",
   "execution_count": 21,
   "metadata": {},
   "outputs": [
    {
     "data": {
      "text/plain": [
       "Union{Cxx.CppRef{Cxx.CppTemplate{Cxx.CppBaseType{Symbol(\"std::vector\")},Tuple{T,Cxx.CxxQualType{Cxx.CppTemplate{Cxx.CppBaseType{Symbol(\"std::allocator\")},Tuple{T}},(false, false, false)}}},(false, false, false)}, Cxx.CppValue{Cxx.CxxQualType{Cxx.CppTemplate{Cxx.CppBaseType{Symbol(\"std::vector\")},Tuple{T,Cxx.CxxQualType{Cxx.CppTemplate{Cxx.CppBaseType{Symbol(\"std::allocator\")},Tuple{T}},(false, false, false)}}},(false, false, false)},N} where N} where T"
      ]
     },
     "execution_count": 21,
     "metadata": {},
     "output_type": "execute_result"
    }
   ],
   "source": [
    "CxxStd.StdVector"
   ]
  },
  {
   "cell_type": "code",
   "execution_count": null,
   "metadata": {},
   "outputs": [],
   "source": []
  },
  {
   "cell_type": "code",
   "execution_count": null,
   "metadata": {},
   "outputs": [],
   "source": []
  },
  {
   "cell_type": "code",
   "execution_count": null,
   "metadata": {},
   "outputs": [],
   "source": []
  },
  {
   "cell_type": "code",
   "execution_count": 2,
   "metadata": {},
   "outputs": [
    {
     "data": {
      "text/plain": [
       "Union{Cxx.CppRef{Cxx.CppTemplate{Cxx.CppBaseType{Symbol(\"std::vector\")},Tuple{T,Cxx.CxxQualType{Cxx.CppTemplate{Cxx.CppBaseType{Symbol(\"std::allocator\")},Tuple{T}},(false, false, false)}}},(false, false, false)}, Cxx.CppValue{Cxx.CxxQualType{Cxx.CppTemplate{Cxx.CppBaseType{Symbol(\"std::vector\")},Tuple{T,Cxx.CxxQualType{Cxx.CppTemplate{Cxx.CppBaseType{Symbol(\"std::allocator\")},Tuple{T}},(false, false, false)}}},(false, false, false)},N} where N} where T"
      ]
     },
     "execution_count": 2,
     "metadata": {},
     "output_type": "execute_result"
    }
   ],
   "source": [
    "StdVector"
   ]
  },
  {
   "cell_type": "code",
   "execution_count": 3,
   "metadata": {},
   "outputs": [
    {
     "data": {
      "text/plain": [
       "Type{Union{Cxx.CppRef{Cxx.CppTemplate{Cxx.CppBaseType{Symbol(\"std::vector\")},Tuple{T,Cxx.CxxQualType{Cxx.CppTemplate{Cxx.CppBaseType{Symbol(\"std::allocator\")},Tuple{T}},(false, false, false)}}},(false, false, false)}, Cxx.CppValue{Cxx.CxxQualType{Cxx.CppTemplate{Cxx.CppBaseType{Symbol(\"std::vector\")},Tuple{T,Cxx.CxxQualType{Cxx.CppTemplate{Cxx.CppBaseType{Symbol(\"std::allocator\")},Tuple{T}},(false, false, false)}}},(false, false, false)},N} where N}} where T"
      ]
     },
     "execution_count": 3,
     "metadata": {},
     "output_type": "execute_result"
    }
   ],
   "source": [
    "Type{StdVector{T}} where T"
   ]
  },
  {
   "cell_type": "code",
   "execution_count": 4,
   "metadata": {},
   "outputs": [
    {
     "data": {
      "text/plain": [
       "Cxx.CppValue{Cxx.CxxQualType{Cxx.CppTemplate{Cxx.CppBaseType{Symbol(\"std::vector\")},Tuple{T,Cxx.CxxQualType{Cxx.CppTemplate{Cxx.CppBaseType{Symbol(\"std::allocator\")},Tuple{T}},(false, false, false)}}},(false, false, false)},N} where N where T<:Union{Float32, Float64, Int16, Int32, Int64, Int8, UInt16, UInt32, UInt64, UInt8}"
      ]
     },
     "execution_count": 4,
     "metadata": {},
     "output_type": "execute_result"
    }
   ],
   "source": [
    "cxxt\"std::vector<$T>\" where {T <: CxxStd.CxxBuiltinVecTs}"
   ]
  },
  {
   "cell_type": "code",
   "execution_count": 5,
   "metadata": {},
   "outputs": [
    {
     "data": {
      "text/plain": [
       "Cxx.CppRef{Cxx.CppTemplate{Cxx.CppBaseType{Symbol(\"std::vector\")},Tuple{T,Cxx.CxxQualType{Cxx.CppTemplate{Cxx.CppBaseType{Symbol(\"std::allocator\")},Tuple{T}},(false, false, false)}}},(false, false, false)} where T<:Union{Float32, Float64, Int16, Int32, Int64, Int8, UInt16, UInt32, UInt64, UInt8}"
      ]
     },
     "execution_count": 5,
     "metadata": {},
     "output_type": "execute_result"
    }
   ],
   "source": [
    "cxxt\"std::vector<$T>&\" where {T <: CxxStd.CxxBuiltinVecTs}"
   ]
  },
  {
   "cell_type": "code",
   "execution_count": 83,
   "metadata": {},
   "outputs": [
    {
     "data": {
      "text/plain": [
       "(class std::vector<unsigned int, class std::allocator<unsigned int> >) {\n",
       "}\n"
      ]
     },
     "execution_count": 83,
     "metadata": {},
     "output_type": "execute_result"
    }
   ],
   "source": [
    "v0 = icxx\"std::vector<$UInt32>(3);\""
   ]
  },
  {
   "cell_type": "code",
   "execution_count": 84,
   "metadata": {},
   "outputs": [
    {
     "data": {
      "text/plain": [
       "(class std::vector<unsigned int, class std::allocator<unsigned int> > &) {\n",
       "}\n"
      ]
     },
     "execution_count": 84,
     "metadata": {},
     "output_type": "execute_result"
    }
   ],
   "source": [
    "v1 = icxx\"(std::vector<$UInt32>&) $v0;\""
   ]
  },
  {
   "cell_type": "code",
   "execution_count": 85,
   "metadata": {},
   "outputs": [
    {
     "data": {
      "text/plain": [
       "(class std::vector<unsigned int, class std::allocator<unsigned int> > *) @0x00007fb2501d82d0\n"
      ]
     },
     "execution_count": 85,
     "metadata": {},
     "output_type": "execute_result"
    }
   ],
   "source": [
    "v2 = icxx\"&$v0;\""
   ]
  },
  {
   "cell_type": "code",
   "execution_count": 86,
   "metadata": {},
   "outputs": [
    {
     "data": {
      "text/plain": [
       "(0x0000000000000003, 0x0000000000000003, 0x0000000000000003)"
      ]
     },
     "execution_count": 86,
     "metadata": {},
     "output_type": "execute_result"
    }
   ],
   "source": [
    "icxx\"$v0.size();\", icxx\"$v1.size();\", icxx\"$v2->size();\""
   ]
  },
  {
   "cell_type": "code",
   "execution_count": 87,
   "metadata": {},
   "outputs": [
    {
     "data": {
      "text/plain": [
       "3-element CxxStd.WrappedCppPrimArray{UInt32}:\n",
       " 0x00000000\n",
       " 0x00000000\n",
       " 0x00000000"
      ]
     },
     "execution_count": 87,
     "metadata": {},
     "output_type": "execute_result"
    }
   ],
   "source": [
    "DenseArray(v0)"
   ]
  },
  {
   "cell_type": "code",
   "execution_count": 92,
   "metadata": {},
   "outputs": [
    {
     "name": "stdout",
     "output_type": "stream",
     "text": [
      "  0.000016 seconds (7 allocations: 304 bytes)\n"
     ]
    },
    {
     "data": {
      "text/plain": [
       "3-element Array{UInt32,1}:\n",
       " 0x00000005\n",
       " 0x00000006\n",
       " 0x00000007"
      ]
     },
     "execution_count": 92,
     "metadata": {},
     "output_type": "execute_result"
    }
   ],
   "source": [
    "@time DenseArray(v0)[:] = UInt32[5,6,7]"
   ]
  },
  {
   "cell_type": "code",
   "execution_count": 93,
   "metadata": {},
   "outputs": [
    {
     "data": {
      "text/plain": [
       "3-element CxxStd.WrappedCppPrimArray{UInt32}:\n",
       " 0x00000005\n",
       " 0x00000006\n",
       " 0x00000007"
      ]
     },
     "execution_count": 93,
     "metadata": {},
     "output_type": "execute_result"
    }
   ],
   "source": [
    "DenseArray(v0)"
   ]
  },
  {
   "cell_type": "code",
   "execution_count": null,
   "metadata": {},
   "outputs": [],
   "source": []
  },
  {
   "cell_type": "code",
   "execution_count": 112,
   "metadata": {},
   "outputs": [
    {
     "data": {
      "text/plain": [
       "(class std::vector<long, class std::allocator<long> >) {\n",
       "}\n"
      ]
     },
     "execution_count": 112,
     "metadata": {},
     "output_type": "execute_result"
    }
   ],
   "source": [
    "convert(cxxt\"std::vector<$Int64>\", Int64[1,2,3])"
   ]
  },
  {
   "cell_type": "code",
   "execution_count": 121,
   "metadata": {},
   "outputs": [
    {
     "data": {
      "text/plain": [
       "(class std::vector<long, class std::allocator<long> >) {\n",
       "}\n"
      ]
     },
     "execution_count": 121,
     "metadata": {},
     "output_type": "execute_result"
    }
   ],
   "source": [
    "v=(cxxt\"std::vector<$Int64>\")([1,2,3])"
   ]
  },
  {
   "cell_type": "code",
   "execution_count": 96,
   "metadata": {},
   "outputs": [
    {
     "data": {
      "text/plain": [
       "(class std::vector<long, class std::allocator<long> >) {\n",
       "}\n"
      ]
     },
     "execution_count": 96,
     "metadata": {},
     "output_type": "execute_result"
    }
   ],
   "source": [
    "v = (cxxt\"std::vector<$Int64>\")([])"
   ]
  },
  {
   "cell_type": "code",
   "execution_count": 122,
   "metadata": {},
   "outputs": [
    {
     "data": {
      "text/plain": [
       "0x0000000000000003"
      ]
     },
     "execution_count": 122,
     "metadata": {},
     "output_type": "execute_result"
    }
   ],
   "source": [
    "icxx\"$v.size();\""
   ]
  },
  {
   "cell_type": "code",
   "execution_count": 98,
   "metadata": {},
   "outputs": [
    {
     "ename": "LoadError",
     "evalue": "\u001b[91mMethodError: no method matching Cxx.CppValue{Cxx.CxxQualType{Cxx.CppTemplate{Cxx.CppBaseType{Symbol(\"std::vector\")},Tuple{Int64,Cxx.CxxQualType{Cxx.CppTemplate{Cxx.CppBaseType{Symbol(\"std::allocator\")},Tuple{Int64}},(false, false, false)}}},(false, false, false)},N} where N()\u001b[39m",
     "output_type": "error",
     "traceback": [
      "\u001b[91mMethodError: no method matching Cxx.CppValue{Cxx.CxxQualType{Cxx.CppTemplate{Cxx.CppBaseType{Symbol(\"std::vector\")},Tuple{Int64,Cxx.CxxQualType{Cxx.CppTemplate{Cxx.CppBaseType{Symbol(\"std::allocator\")},Tuple{Int64}},(false, false, false)}}},(false, false, false)},N} where N()\u001b[39m",
      "",
      "Stacktrace:",
      " [1] \u001b[1minclude_string\u001b[22m\u001b[22m\u001b[1m(\u001b[22m\u001b[22m::String, ::String\u001b[1m)\u001b[22m\u001b[22m at \u001b[1m./loading.jl:522\u001b[22m\u001b[22m"
     ]
    }
   ],
   "source": [
    "(cxxt\"std::vector<$Int64>\")()"
   ]
  },
  {
   "cell_type": "code",
   "execution_count": 115,
   "metadata": {},
   "outputs": [
    {
     "data": {
      "text/plain": [
       "(class std::vector<long, class std::allocator<long> >) {\n",
       "}\n"
      ]
     },
     "execution_count": 115,
     "metadata": {},
     "output_type": "execute_result"
    }
   ],
   "source": [
    "v"
   ]
  },
  {
   "cell_type": "code",
   "execution_count": 113,
   "metadata": {},
   "outputs": [
    {
     "data": {
      "text/plain": [
       "Int64"
      ]
     },
     "execution_count": 113,
     "metadata": {},
     "output_type": "execute_result"
    }
   ],
   "source": [
    "eltype(v)"
   ]
  },
  {
   "cell_type": "code",
   "execution_count": 114,
   "metadata": {},
   "outputs": [
    {
     "data": {
      "text/plain": [
       "Cxx.CppValue{Cxx.CxxQualType{Cxx.CppTemplate{Cxx.CppBaseType{Symbol(\"std::vector\")},Tuple{Int64,Cxx.CxxQualType{Cxx.CppTemplate{Cxx.CppBaseType{Symbol(\"std::allocator\")},Tuple{Int64}},(false, false, false)}}},(false, false, false)},24}"
      ]
     },
     "execution_count": 114,
     "metadata": {},
     "output_type": "execute_result"
    }
   ],
   "source": [
    "typeof(v)"
   ]
  },
  {
   "cell_type": "code",
   "execution_count": null,
   "metadata": {},
   "outputs": [],
   "source": []
  }
 ],
 "metadata": {
  "kernelspec": {
   "display_name": "Julia 0.6.2",
   "language": "julia",
   "name": "julia-0.6"
  },
  "language_info": {
   "file_extension": ".jl",
   "mimetype": "application/julia",
   "name": "julia",
   "version": "0.6.2"
  }
 },
 "nbformat": 4,
 "nbformat_minor": 2
}
