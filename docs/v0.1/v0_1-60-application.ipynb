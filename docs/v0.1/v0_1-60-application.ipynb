{
 "cells": [
  {
   "cell_type": "markdown",
   "metadata": {},
   "source": [
    "# Developing Environment"
   ]
  },
  {
   "cell_type": "code",
   "execution_count": 1,
   "metadata": {},
   "outputs": [
    {
     "name": "stdout",
     "output_type": "stream",
     "text": [
      "Julia Version 0.6.2\n",
      "Commit d386e40c17 (2017-12-13 18:08 UTC)\n",
      "Platform Info:\n",
      "  OS: Linux (x86_64-pc-linux-gnu)\n",
      "  CPU: Intel(R) Core(TM) i7-7820HQ CPU @ 2.90GHz\n",
      "  WORD_SIZE: 64\n",
      "  BLAS: libopenblas (USE64BITINT DYNAMIC_ARCH NO_AFFINITY Prescott)\n",
      "  LAPACK: libopenblas64_\n",
      "  LIBM: libopenlibm\n",
      "  LLVM: libLLVM-3.9.1 (ORCJIT, broadwell)\n"
     ]
    }
   ],
   "source": [
    "versioninfo()"
   ]
  },
  {
   "cell_type": "code",
   "execution_count": 2,
   "metadata": {},
   "outputs": [
    {
     "data": {
      "text/plain": [
       "\"1\""
      ]
     },
     "execution_count": 2,
     "metadata": {},
     "output_type": "execute_result"
    }
   ],
   "source": [
    "ENV[\"JULIA_CXX_RTTI\"]"
   ]
  },
  {
   "cell_type": "markdown",
   "metadata": {},
   "source": [
    "# Installing the Package"
   ]
  },
  {
   "cell_type": "code",
   "execution_count": 6,
   "metadata": {},
   "outputs": [
    {
     "name": "stderr",
     "output_type": "stream",
     "text": [
      "\u001b[1m\u001b[36mINFO: \u001b[39m\u001b[22m\u001b[36mCloning CxxROS from git@manabu-xenial.local:julia/3rd-party/CxxROS.git\n",
      "\u001b[39m\u001b[1m\u001b[36mINFO: \u001b[39m\u001b[22m\u001b[36mComputing changes...\n",
      "\u001b[39m"
     ]
    }
   ],
   "source": [
    "#Pkg.clone(\"git@manabu-xenial.local:julia/3rd-party/CxxROS.git\")"
   ]
  },
  {
   "cell_type": "code",
   "execution_count": 3,
   "metadata": {},
   "outputs": [
    {
     "name": "stdout",
     "output_type": "stream",
     "text": [
      "  3.947348 seconds (3.45 M allocations: 204.050 MiB, 3.31% gc time)\n"
     ]
    }
   ],
   "source": [
    "@time using Cxx\n",
    "#using CxxStd: StdString, StdVector"
   ]
  },
  {
   "cell_type": "code",
   "execution_count": 4,
   "metadata": {},
   "outputs": [
    {
     "name": "stdout",
     "output_type": "stream",
     "text": [
      "  4.311570 seconds (1.68 M allocations: 87.529 MiB, 0.63% gc time)\n"
     ]
    },
    {
     "name": "stderr",
     "output_type": "stream",
     "text": [
      "WARNING: imported binding for String overwritten in module std_msgs\n"
     ]
    }
   ],
   "source": [
    "#push!(LOAD_PATH, \"/home/manabu/jupyter\")\n",
    "@time using CxxROS"
   ]
  },
  {
   "cell_type": "code",
   "execution_count": 3,
   "metadata": {},
   "outputs": [],
   "source": [
    "#reload(\"CxxROS\")"
   ]
  },
  {
   "cell_type": "markdown",
   "metadata": {},
   "source": [
    "# Using ROS"
   ]
  },
  {
   "cell_type": "markdown",
   "metadata": {},
   "source": [
    "## ROS Messages"
   ]
  },
  {
   "cell_type": "markdown",
   "metadata": {},
   "source": [
    "### Interface to \"std_msgs::String\""
   ]
  },
  {
   "cell_type": "code",
   "execution_count": 5,
   "metadata": {},
   "outputs": [
    {
     "data": {
      "text/plain": [
       "(struct std_msgs::String_<class std::allocator<void> >) {\n",
       " .data = (class std::__cxx11::basic_string<char> &) {\n",
       "}\n",
       "\n",
       "}\n"
      ]
     },
     "execution_count": 5,
     "metadata": {},
     "output_type": "execute_result"
    }
   ],
   "source": [
    "msg = @cxx std_msgs::String()"
   ]
  },
  {
   "cell_type": "code",
   "execution_count": 6,
   "metadata": {},
   "outputs": [
    {
     "data": {
      "text/plain": [
       "Cxx.CppValue{Cxx.CxxQualType{Cxx.CppTemplate{Cxx.CppBaseType{Symbol(\"std_msgs::String_\")},Tuple{Cxx.CxxQualType{Cxx.CppTemplate{Cxx.CppBaseType{Symbol(\"std::allocator\")},Tuple{Void}},(false, false, false)}}},(false, false, false)},32}"
      ]
     },
     "execution_count": 6,
     "metadata": {},
     "output_type": "execute_result"
    }
   ],
   "source": [
    "typeof(msg)"
   ]
  },
  {
   "cell_type": "code",
   "execution_count": 7,
   "metadata": {},
   "outputs": [
    {
     "data": {
      "text/plain": [
       "Cxx.CppRef{Cxx.CppTemplate{Cxx.CppBaseType{Symbol(\"std_msgs::String_\")},Tuple{Cxx.CxxQualType{Cxx.CppTemplate{Cxx.CppBaseType{Symbol(\"std::allocator\")},Tuple{Void}},(false, false, false)}}},(false, false, false)}"
      ]
     },
     "execution_count": 7,
     "metadata": {},
     "output_type": "execute_result"
    }
   ],
   "source": [
    "typeof(icxx\"$msg;\")"
   ]
  },
  {
   "cell_type": "code",
   "execution_count": 8,
   "metadata": {},
   "outputs": [
    {
     "data": {
      "text/plain": [
       "(struct std_msgs::String_<class std::allocator<void> >) {\n",
       " .data = (class std::__cxx11::basic_string<char> &) {\n",
       "}\n",
       "\n",
       "}\n"
      ]
     },
     "execution_count": 8,
     "metadata": {},
     "output_type": "execute_result"
    }
   ],
   "source": [
    "msg = std_msgs.String()"
   ]
  },
  {
   "cell_type": "markdown",
   "metadata": {},
   "source": [
    "### Conversion between from/to \"String\" and \"CxxStd.StdString\""
   ]
  },
  {
   "cell_type": "code",
   "execution_count": 9,
   "metadata": {},
   "outputs": [
    {
     "data": {
      "text/plain": [
       "String"
      ]
     },
     "execution_count": 9,
     "metadata": {},
     "output_type": "execute_result"
    }
   ],
   "source": [
    "s0 = \"HELO\"\n",
    "typeof(s0)"
   ]
  },
  {
   "cell_type": "code",
   "execution_count": 12,
   "metadata": {},
   "outputs": [],
   "source": [
    "using CxxStd: StdString"
   ]
  },
  {
   "cell_type": "code",
   "execution_count": 13,
   "metadata": {},
   "outputs": [
    {
     "data": {
      "text/plain": [
       "Cxx.CppValue{Cxx.CxxQualType{Cxx.CppTemplate{Cxx.CppBaseType{Symbol(\"std::__cxx11::basic_string\")},Tuple{UInt8,Cxx.CxxQualType{Cxx.CppTemplate{Cxx.CppBaseType{Symbol(\"std::char_traits\")},Tuple{UInt8}},(false, false, false)},Cxx.CxxQualType{Cxx.CppTemplate{Cxx.CppBaseType{Symbol(\"std::allocator\")},Tuple{UInt8}},(false, false, false)}}},(false, false, false)},32}"
      ]
     },
     "execution_count": 13,
     "metadata": {},
     "output_type": "execute_result"
    }
   ],
   "source": [
    "s1 = StdString(s0)\n",
    "typeof(s1)"
   ]
  },
  {
   "cell_type": "code",
   "execution_count": 14,
   "metadata": {},
   "outputs": [
    {
     "data": {
      "text/plain": [
       "(struct std_msgs::String_<class std::allocator<void> >) {\n",
       " .data = (class std::__cxx11::basic_string<char> &) {\n",
       "}\n",
       "\n",
       "}\n"
      ]
     },
     "execution_count": 14,
     "metadata": {},
     "output_type": "execute_result"
    }
   ],
   "source": [
    "s2 = std_msgs.String(s1)"
   ]
  },
  {
   "cell_type": "code",
   "execution_count": 15,
   "metadata": {},
   "outputs": [
    {
     "data": {
      "text/plain": [
       "Cxx.CppValue{Cxx.CxxQualType{Cxx.CppTemplate{Cxx.CppBaseType{Symbol(\"std::__cxx11::basic_string\")},Tuple{UInt8,Cxx.CxxQualType{Cxx.CppTemplate{Cxx.CppBaseType{Symbol(\"std::char_traits\")},Tuple{UInt8}},(false, false, false)},Cxx.CxxQualType{Cxx.CppTemplate{Cxx.CppBaseType{Symbol(\"std::allocator\")},Tuple{UInt8}},(false, false, false)}}},(false, false, false)},32}"
      ]
     },
     "execution_count": 15,
     "metadata": {},
     "output_type": "execute_result"
    }
   ],
   "source": [
    "typeof(icxx\"$s2.data;\")"
   ]
  },
  {
   "cell_type": "code",
   "execution_count": 16,
   "metadata": {},
   "outputs": [
    {
     "data": {
      "text/plain": [
       "(Ptr{UInt8} @0x00007feec94d2e70, 0x0000000000000004)"
      ]
     },
     "execution_count": 16,
     "metadata": {},
     "output_type": "execute_result"
    }
   ],
   "source": [
    "icxx\"$s2.data.data();\", icxx\"$s2.data.size();\""
   ]
  },
  {
   "cell_type": "code",
   "execution_count": 17,
   "metadata": {},
   "outputs": [
    {
     "data": {
      "text/plain": [
       "((class std::__cxx11::basic_string<char>) {\n",
       "}\n",
       ", \"HELO\")"
      ]
     },
     "execution_count": 17,
     "metadata": {},
     "output_type": "execute_result"
    }
   ],
   "source": [
    "StdString(s2), String(s2)"
   ]
  },
  {
   "cell_type": "markdown",
   "metadata": {},
   "source": [
    "## Interface to \"std_msgs::Time\""
   ]
  },
  {
   "cell_type": "markdown",
   "metadata": {},
   "source": [
    "``ros::Time`` is singleton, initialized at node handle creation"
   ]
  },
  {
   "cell_type": "code",
   "execution_count": 18,
   "metadata": {},
   "outputs": [
    {
     "data": {
      "text/plain": [
       "Type{Cxx.CppValue{Cxx.CxxQualType{Cxx.CppBaseType{Symbol(\"ros::Time\")},(false, false, false)},N} where N}"
      ]
     },
     "execution_count": 18,
     "metadata": {},
     "output_type": "execute_result"
    }
   ],
   "source": [
    "Type{RosTime}"
   ]
  },
  {
   "cell_type": "code",
   "execution_count": 19,
   "metadata": {},
   "outputs": [
    {
     "data": {
      "text/plain": [
       "(class ros::Time) {\n",
       "}\n"
      ]
     },
     "execution_count": 19,
     "metadata": {},
     "output_type": "execute_result"
    }
   ],
   "source": [
    "t = @cxx ros::Time()"
   ]
  },
  {
   "cell_type": "markdown",
   "metadata": {},
   "source": [
    "this might cause \"`Unrecognized C++ Exception (N3ros27TimeNotInitializedExceptionE)`\", because ros::Time is not initialized..."
   ]
  },
  {
   "cell_type": "code",
   "execution_count": 20,
   "metadata": {},
   "outputs": [
    {
     "ename": "LoadError",
     "evalue": "\u001b[91mUnrecognized C++ Exception (N3ros27TimeNotInitializedExceptionE)\u001b[39m",
     "output_type": "error",
     "traceback": [
      "\u001b[91mUnrecognized C++ Exception (N3ros27TimeNotInitializedExceptionE)\u001b[39m",
      "",
      "Stacktrace:",
      " [1] \u001b[1mprocess_cxx_exception\u001b[22m\u001b[22m\u001b[1m(\u001b[22m\u001b[22m::UInt64, ::Ptr{Void}\u001b[1m)\u001b[22m\u001b[22m at \u001b[1m/home/manabu/.julia/v0.6/Cxx/src/exceptions.jl:85\u001b[22m\u001b[22m",
      " [2] \u001b[1mcxxstr_impl\u001b[22m\u001b[22m\u001b[1m(\u001b[22m\u001b[22m::Cxx.CxxInstance{1}, ::Cxx.SourceBuf{67}, ::Cxx.CppValue{Cxx.CxxQualType{Cxx.CppBaseType{Symbol(\"ros::Time\")},(false, false, false)},8}\u001b[1m)\u001b[22m\u001b[22m at \u001b[1m/home/manabu/.julia/v0.6/Cxx/src/cxxstr.jl:704\u001b[22m\u001b[22m",
      " [3] \u001b[1minclude_string\u001b[22m\u001b[22m\u001b[1m(\u001b[22m\u001b[22m::String, ::String\u001b[1m)\u001b[22m\u001b[22m at \u001b[1m./loading.jl:522\u001b[22m\u001b[22m"
     ]
    }
   ],
   "source": [
    "icxx\"$t.now();\""
   ]
  },
  {
   "cell_type": "code",
   "execution_count": 21,
   "metadata": {},
   "outputs": [
    {
     "data": {
      "text/plain": [
       "1.523962432879216e9"
      ]
     },
     "execution_count": 21,
     "metadata": {},
     "output_type": "execute_result"
    }
   ],
   "source": [
    "time()"
   ]
  },
  {
   "cell_type": "code",
   "execution_count": 22,
   "metadata": {},
   "outputs": [
    {
     "data": {
      "text/plain": [
       "(class ros::Time) {\n",
       "}\n"
      ]
     },
     "execution_count": 22,
     "metadata": {},
     "output_type": "execute_result"
    }
   ],
   "source": [
    "t = RosTime(time())"
   ]
  },
  {
   "cell_type": "code",
   "execution_count": 23,
   "metadata": {},
   "outputs": [
    {
     "data": {
      "text/plain": [
       "1.523962433966817e9"
      ]
     },
     "execution_count": 23,
     "metadata": {},
     "output_type": "execute_result"
    }
   ],
   "source": [
    "icxx\"$t.toSec();\""
   ]
  },
  {
   "cell_type": "code",
   "execution_count": 24,
   "metadata": {},
   "outputs": [
    {
     "data": {
      "text/plain": [
       "(0x5ad5d241, 0x39a07486)"
      ]
     },
     "execution_count": 24,
     "metadata": {},
     "output_type": "execute_result"
    }
   ],
   "source": [
    "icxx\"$t.sec;\", icxx\"$t.nsec;\""
   ]
  },
  {
   "cell_type": "code",
   "execution_count": 28,
   "metadata": {},
   "outputs": [
    {
     "data": {
      "text/plain": [
       "2018-04-17T19:53:53+09:00"
      ]
     },
     "execution_count": 28,
     "metadata": {},
     "output_type": "execute_result"
    }
   ],
   "source": [
    "using TimeZones\n",
    "ZonedDateTime(t)"
   ]
  },
  {
   "cell_type": "code",
   "execution_count": 29,
   "metadata": {},
   "outputs": [
    {
     "data": {
      "text/plain": [
       "true"
      ]
     },
     "execution_count": 29,
     "metadata": {},
     "output_type": "execute_result"
    }
   ],
   "source": [
    "typeof(t) <: RosTime"
   ]
  },
  {
   "cell_type": "markdown",
   "metadata": {},
   "source": [
    "## Building some application"
   ]
  },
  {
   "cell_type": "code",
   "execution_count": 30,
   "metadata": {},
   "outputs": [],
   "source": [
    "#Libdl.dlopen(CxxROS.path_to_ros * \"lib/libroscpp.so\", Libdl.RTLD_GLOBAL)"
   ]
  },
  {
   "cell_type": "code",
   "execution_count": 31,
   "metadata": {},
   "outputs": [
    {
     "name": "stderr",
     "output_type": "stream",
     "text": [
      "\u001b[1m\u001b[36mINFO: \u001b[39m\u001b[22m\u001b[36mRecompiling stale cache file /home/manabu/.julia/lib/v0.6/SHA.ji for module SHA.\n",
      "\u001b[39m\u001b[1m\u001b[36mINFO: \u001b[39m\u001b[22m\u001b[36mRecompiling stale cache file /home/manabu/.julia/lib/v0.6/BinDeps.ji for module BinDeps.\n",
      "\u001b[39m\u001b[1m\u001b[36mINFO: \u001b[39m\u001b[22m\u001b[36mRecompiling stale cache file /home/manabu/.julia/lib/v0.6/Conda.ji for module Conda.\n",
      "\u001b[39m\u001b[1m\u001b[36mINFO: \u001b[39m\u001b[22m\u001b[36mRecompiling stale cache file /home/manabu/.julia/lib/v0.6/PyPlot.ji for module PyPlot.\n",
      "\u001b[39m"
     ]
    }
   ],
   "source": [
    "using PyPlot"
   ]
  },
  {
   "cell_type": "code",
   "execution_count": null,
   "metadata": {},
   "outputs": [],
   "source": []
  },
  {
   "cell_type": "code",
   "execution_count": 32,
   "metadata": {},
   "outputs": [],
   "source": [
    "@cxx ros::init(Int32(1), pointer([pointer(\"imu_node\")]), pointer(\"imu_node\"))"
   ]
  },
  {
   "cell_type": "code",
   "execution_count": 33,
   "metadata": {},
   "outputs": [
    {
     "data": {
      "text/plain": [
       "(class ros::NodeHandle) {\n",
       "}\n"
      ]
     },
     "execution_count": 33,
     "metadata": {},
     "output_type": "execute_result"
    }
   ],
   "source": [
    "nh = @cxx ros::NodeHandle()"
   ]
  },
  {
   "cell_type": "code",
   "execution_count": null,
   "metadata": {},
   "outputs": [],
   "source": []
  },
  {
   "cell_type": "code",
   "execution_count": null,
   "metadata": {},
   "outputs": [],
   "source": []
  },
  {
   "cell_type": "code",
   "execution_count": 34,
   "metadata": {},
   "outputs": [
    {
     "data": {
      "text/plain": [
       "Ptr{Void} @0x000000000f2c12c0"
      ]
     },
     "execution_count": 34,
     "metadata": {},
     "output_type": "execute_result"
    }
   ],
   "source": [
    "Libdl.dlopen(CxxROS.path_to_ros * \"lib/libtopic_tools.so\", Libdl.RTLD_GLOBAL)"
   ]
  },
  {
   "cell_type": "code",
   "execution_count": 35,
   "metadata": {},
   "outputs": [
    {
     "data": {
      "text/plain": [
       "(class ros::Duration) {\n",
       "}\n"
      ]
     },
     "execution_count": 35,
     "metadata": {},
     "output_type": "execute_result"
    }
   ],
   "source": [
    "three_sec = @cxx ros::Duration(3.0)"
   ]
  },
  {
   "cell_type": "code",
   "execution_count": 36,
   "metadata": {},
   "outputs": [
    {
     "data": {
      "text/plain": [
       "(struct sensor_msgs::Imu_<class std::allocator<void> > &) {\n",
       " .header = (struct std_msgs::Header_<class std::allocator<void> > &) {\n",
       " .seq = (unsigned int &) 81092\n",
       " .stamp = (class ros::Time &) {\n",
       "}\n",
       "\n",
       " .frame_id = (class std::__cxx11::basic_string<char> &) {\n",
       "}\n",
       "\n",
       "}\n",
       "\n",
       " .orientation = (struct geometry_msgs::Quaternion_<class std::allocator<void> > &) {\n",
       " .x = (double &) -0.00046864082105457783\n",
       " .y = (double &) -0.0010023099603131413\n",
       " .z = (double &) -0.8329387307167053\n",
       " .w = (double &) 0.553364098072052\n",
       "}\n",
       "\n",
       " .orientation_covariance = (class boost::array<double, 9> &) {\n",
       " .elems = Array<Float64,1>\n",
       "\n",
       "}\n",
       "\n",
       " .angular_velocity = (struct geometry_msgs::Vector3_<class std::allocator<void> > &) {\n",
       " .x = (double &) -0.0011078380048274994\n",
       " .y = (double &) 0.0005311267450451851\n",
       " .z = (double &) -0.001274146605283022\n",
       "}\n",
       "\n",
       " .angular_velocity_covariance = (class boost::array<double, 9> &) {\n",
       " .elems = Array<Float64,1>\n",
       "\n",
       "}\n",
       "\n",
       " .linear_acceleration = (struct geometry_msgs::Vector3_<class std::allocator<void> > &) {\n",
       " .x = (double &) 0.0014758703764528036\n",
       " .y = (double &) 0.0007445100345648825\n",
       " .z = (double &) 0.9797696471214294\n",
       "}\n",
       "\n",
       " .linear_acceleration_covariance = (class boost::array<double, 9> &) {\n",
       " .elems = Array<Float64,1>\n",
       "\n",
       "}\n",
       "\n",
       "}\n"
      ]
     },
     "execution_count": 36,
     "metadata": {},
     "output_type": "execute_result"
    }
   ],
   "source": [
    "msgp = icxx\"\"\"ros::topic::waitForMessage<sensor_msgs::Imu>(\"/imu/data_raw\", $nh, $three_sec);\"\"\"\n",
    "msg = icxx\"*$msgp;\""
   ]
  },
  {
   "cell_type": "code",
   "execution_count": 37,
   "metadata": {},
   "outputs": [
    {
     "data": {
      "text/plain": [
       "Cxx.CppValue{Cxx.CxxQualType{Cxx.CppBaseType{Symbol(\"ros::Time\")},(false, false, false)},8}"
      ]
     },
     "execution_count": 37,
     "metadata": {},
     "output_type": "execute_result"
    }
   ],
   "source": [
    "typeof(icxx\"$msg.header.stamp;\")"
   ]
  },
  {
   "cell_type": "code",
   "execution_count": 38,
   "metadata": {},
   "outputs": [
    {
     "data": {
      "text/plain": [
       "(class ros::Time &) {\n",
       "}\n"
      ]
     },
     "execution_count": 38,
     "metadata": {},
     "output_type": "execute_result"
    }
   ],
   "source": [
    "t = icxx\"(ros::Time&) $msg.header.stamp;\""
   ]
  },
  {
   "cell_type": "code",
   "execution_count": 40,
   "metadata": {},
   "outputs": [
    {
     "data": {
      "text/plain": [
       "true"
      ]
     },
     "execution_count": 40,
     "metadata": {},
     "output_type": "execute_result"
    }
   ],
   "source": [
    "typeof(t) <:RosTimeR"
   ]
  },
  {
   "cell_type": "code",
   "execution_count": 41,
   "metadata": {},
   "outputs": [
    {
     "data": {
      "text/plain": [
       "1523962590"
      ]
     },
     "execution_count": 41,
     "metadata": {},
     "output_type": "execute_result"
    }
   ],
   "source": [
    "Int64(trunc(@cxx t->toSec()))"
   ]
  },
  {
   "cell_type": "code",
   "execution_count": 42,
   "metadata": {},
   "outputs": [
    {
     "data": {
      "text/plain": [
       "1.5239625902156405e9"
      ]
     },
     "execution_count": 42,
     "metadata": {},
     "output_type": "execute_result"
    }
   ],
   "source": [
    "icxx\"$msg.header.stamp.toSec();\""
   ]
  },
  {
   "cell_type": "code",
   "execution_count": 43,
   "metadata": {},
   "outputs": [
    {
     "data": {
      "text/plain": [
       "Cxx.CppValue{Cxx.CxxQualType{Cxx.CppTemplate{Cxx.CppBaseType{Symbol(\"geometry_msgs::Vector3_\")},Tuple{Cxx.CxxQualType{Cxx.CppTemplate{Cxx.CppBaseType{Symbol(\"std::allocator\")},Tuple{Void}},(false, false, false)}}},(false, false, false)},24}"
      ]
     },
     "execution_count": 43,
     "metadata": {},
     "output_type": "execute_result"
    }
   ],
   "source": [
    "typeof(icxx\"$msg.angular_velocity;\")"
   ]
  },
  {
   "cell_type": "code",
   "execution_count": 44,
   "metadata": {},
   "outputs": [
    {
     "data": {
      "text/plain": [
       "3-element CxxStd.WrappedCppPrimArray{Float64}:\n",
       " -0.00110784 \n",
       "  0.000531127\n",
       " -0.00127415 "
      ]
     },
     "execution_count": 44,
     "metadata": {},
     "output_type": "execute_result"
    }
   ],
   "source": [
    "DenseArray(icxx\"(geometry_msgs::Vector3&) $msg.angular_velocity;\")"
   ]
  },
  {
   "cell_type": "code",
   "execution_count": null,
   "metadata": {},
   "outputs": [],
   "source": []
  },
  {
   "cell_type": "code",
   "execution_count": 45,
   "metadata": {},
   "outputs": [
    {
     "data": {
      "text/plain": [
       "Cxx.CppValue{Cxx.CxxQualType{Cxx.CppTemplate{Cxx.CppBaseType{Symbol(\"geometry_msgs::Vector3_\")},Tuple{Cxx.CxxQualType{Cxx.CppTemplate{Cxx.CppBaseType{Symbol(\"std::allocator\")},Tuple{Void}},(false, false, false)}}},(false, false, false)},24}"
      ]
     },
     "execution_count": 45,
     "metadata": {},
     "output_type": "execute_result"
    }
   ],
   "source": [
    "typeof(icxx\"$msg.linear_acceleration;\")"
   ]
  },
  {
   "cell_type": "code",
   "execution_count": 46,
   "metadata": {},
   "outputs": [
    {
     "data": {
      "text/plain": [
       "(struct geometry_msgs::Vector3_<class std::allocator<void> > &) {\n",
       " .x = (double &) 0.0014758703764528036\n",
       " .y = (double &) 0.0007445100345648825\n",
       " .z = (double &) 0.9797696471214294\n",
       "}\n"
      ]
     },
     "execution_count": 46,
     "metadata": {},
     "output_type": "execute_result"
    }
   ],
   "source": [
    "av = icxx\"(geometry_msgs::Vector3&) $msg.linear_acceleration;\""
   ]
  },
  {
   "cell_type": "code",
   "execution_count": null,
   "metadata": {},
   "outputs": [],
   "source": []
  },
  {
   "cell_type": "code",
   "execution_count": 47,
   "metadata": {},
   "outputs": [],
   "source": [
    "using OffsetArrays"
   ]
  },
  {
   "cell_type": "code",
   "execution_count": 48,
   "metadata": {},
   "outputs": [],
   "source": [
    "buf = OffsetArray(Float64, (1:1000)-999, 1:7);\n",
    "fill!(buf, Float64(NaN));"
   ]
  },
  {
   "cell_type": "code",
   "execution_count": null,
   "metadata": {},
   "outputs": [],
   "source": []
  },
  {
   "cell_type": "code",
   "execution_count": 49,
   "metadata": {},
   "outputs": [
    {
     "data": {
      "text/plain": [
       "cb_scan (generic function with 1 method)"
      ]
     },
     "execution_count": 49,
     "metadata": {},
     "output_type": "execute_result"
    }
   ],
   "source": [
    "function cb_scan(msg)\n",
    "    global buf\n",
    "    p = @cxx sensor_msgs::Imu::ConstPtr()\n",
    "    icxx\"$p = $msg;\" # required to select this julia function from Cxx\n",
    "    \n",
    "    imu_msg = icxx\"*($p);\" # boost::share_pointer get()\n",
    "    \n",
    "    # circular shift at 1st-index of OffsetArray, to store latest value at index:0\n",
    "    idx1 = indices(buf)[1]\n",
    "    last(idx1) == 0 ? idx1 += 999 : idx1 -= 1\n",
    "    buf = OffsetArray(parent(buf), idx1, indices(buf)[2])\n",
    "\n",
    "    v = @view buf[0,:] # view at 0 of (-999:0)\n",
    "    #v[1]   = icxx\"$imu_msg.header.stamp.sec;\" + icxx\"$imu_msg.header.stamp.nsec;\" / 1000000000.\n",
    "    #v[2:4] = Float64[icxx\"$imu_msg.angular_velocity.x;\"    icxx\"$imu_msg.angular_velocity.y;\"    icxx\"$imu_msg.angular_velocity.z;\"   ]\n",
    "    #v[5:7] = Float64[icxx\"$imu_msg.linear_acceleration.x;\" icxx\"$imu_msg.linear_acceleration.y;\" icxx\"$imu_msg.linear_acceleration.z;\"]\n",
    "    v[1]   = icxx\"$imu_msg.header.stamp.toSec();\"\n",
    "    v[2:4] = DenseArray(icxx\"(geometry_msgs::Vector3&) $imu_msg.angular_velocity;\")\n",
    "    v[5:7] = DenseArray(icxx\"(geometry_msgs::Vector3&) $imu_msg.linear_acceleration;\")\n",
    "    nothing\n",
    "end"
   ]
  },
  {
   "cell_type": "code",
   "execution_count": 50,
   "metadata": {},
   "outputs": [
    {
     "data": {
      "text/plain": [
       "subscribe (generic function with 1 method)"
      ]
     },
     "execution_count": 50,
     "metadata": {},
     "output_type": "execute_result"
    }
   ],
   "source": [
    "function subscribe()\n",
    "    icxx\"\"\"\n",
    "      //std::function<void (sensor_msgs::Imu::ConstPtr)> cb = [&](sensor_msgs::Imu::ConstPtr msg) {\n",
    "      boost::function<void (sensor_msgs::Imu::ConstPtr)> cb = [&](sensor_msgs::Imu::ConstPtr msg) {\n",
    "        $:(cb_scan(icxx\"return msg;\"));\n",
    "      };\n",
    "      return $nh.subscribe<sensor_msgs::Imu::ConstPtr>(\"/imu/data_raw\", 100, cb);\n",
    "    \"\"\"\n",
    "end"
   ]
  },
  {
   "cell_type": "markdown",
   "metadata": {},
   "source": [
    "### subscribe"
   ]
  },
  {
   "cell_type": "code",
   "execution_count": 51,
   "metadata": {},
   "outputs": [
    {
     "data": {
      "text/plain": [
       "(class ros::Subscriber) {\n",
       "}\n"
      ]
     },
     "execution_count": 51,
     "metadata": {},
     "output_type": "execute_result"
    }
   ],
   "source": [
    "subscriber = subscribe()"
   ]
  },
  {
   "cell_type": "code",
   "execution_count": 52,
   "metadata": {},
   "outputs": [
    {
     "data": {
      "text/plain": [
       "CxxROS.RosSpin(false, nothing, (class ros::Rate) {\n",
       "}\n",
       ")"
      ]
     },
     "execution_count": 52,
     "metadata": {},
     "output_type": "execute_result"
    }
   ],
   "source": [
    "spin = RosSpin(160)"
   ]
  },
  {
   "cell_type": "code",
   "execution_count": 53,
   "metadata": {},
   "outputs": [
    {
     "data": {
      "text/plain": [
       "Task (runnable) @0x00007feec8830010"
      ]
     },
     "execution_count": 53,
     "metadata": {},
     "output_type": "execute_result"
    }
   ],
   "source": [
    "start(spin)"
   ]
  },
  {
   "cell_type": "code",
   "execution_count": 54,
   "metadata": {},
   "outputs": [
    {
     "data": {
      "text/plain": [
       "false"
      ]
     },
     "execution_count": 54,
     "metadata": {},
     "output_type": "execute_result"
    }
   ],
   "source": [
    "istaskdone(spin.task)"
   ]
  },
  {
   "cell_type": "code",
   "execution_count": 55,
   "metadata": {},
   "outputs": [
    {
     "data": {
      "text/plain": [
       "Task (runnable) @0x00007feedd76b1f0"
      ]
     },
     "execution_count": 55,
     "metadata": {},
     "output_type": "execute_result"
    }
   ],
   "source": [
    "current_task()"
   ]
  },
  {
   "cell_type": "code",
   "execution_count": 56,
   "metadata": {},
   "outputs": [
    {
     "data": {
      "text/plain": [
       "Task (runnable) @0x00007feec8830010"
      ]
     },
     "execution_count": 56,
     "metadata": {},
     "output_type": "execute_result"
    }
   ],
   "source": [
    "spin.task"
   ]
  },
  {
   "cell_type": "markdown",
   "metadata": {},
   "source": [
    "### unsubscribe"
   ]
  },
  {
   "cell_type": "code",
   "execution_count": 72,
   "metadata": {},
   "outputs": [
    {
     "name": "stdout",
     "output_type": "stream",
     "text": [
      "got exception: stop"
     ]
    },
    {
     "data": {
      "text/plain": [
       "Task (runnable) @0x00007feec8812770"
      ]
     },
     "execution_count": 72,
     "metadata": {},
     "output_type": "execute_result"
    },
    {
     "name": "stdout",
     "output_type": "stream",
     "text": [
      "\n"
     ]
    }
   ],
   "source": [
    "# stop(spin)\n",
    "@async Base.throwto(spin.task, ErrorException(\"stop\"))"
   ]
  },
  {
   "cell_type": "code",
   "execution_count": 73,
   "metadata": {},
   "outputs": [
    {
     "data": {
      "text/plain": [
       "true"
      ]
     },
     "execution_count": 73,
     "metadata": {},
     "output_type": "execute_result"
    }
   ],
   "source": [
    "istaskdone(spin.task)"
   ]
  },
  {
   "cell_type": "code",
   "execution_count": 74,
   "metadata": {},
   "outputs": [],
   "source": [
    "@cxx subscriber->shutdown()"
   ]
  },
  {
   "cell_type": "markdown",
   "metadata": {},
   "source": [
    "### graphize"
   ]
  },
  {
   "cell_type": "code",
   "execution_count": 60,
   "metadata": {},
   "outputs": [
    {
     "data": {
      "image/png": "[encoded data removed]",
      "text/plain": [
       "PyPlot.Figure(PyObject <Figure size 640x480 with 1 Axes>)"
      ]
     },
     "metadata": {},
     "output_type": "display_data",
     "source": "julia"
    },
    {
     "data": {
      "text/plain": [
       "(PyCall.PyObject[PyObject <matplotlib.lines.Line2D object at 0x7fee9e54db38>], -825:174)"
      ]
     },
     "execution_count": 60,
     "metadata": {},
     "output_type": "execute_result"
    }
   ],
   "source": [
    "p = plot(parent(buf)[:,1]), indices(buf)[1]"
   ]
  },
  {
   "cell_type": "code",
   "execution_count": 61,
   "metadata": {},
   "outputs": [
    {
     "data": {
      "image/png": "[encoded data removed]",
      "text/plain": [
       "PyPlot.Figure(PyObject <Figure size 640x480 with 1 Axes>)"
      ]
     },
     "metadata": {},
     "output_type": "display_data",
     "source": "julia"
    },
    {
     "data": {
      "text/plain": [
       "1-element Array{PyCall.PyObject,1}:\n",
       " PyObject <matplotlib.lines.Line2D object at 0x7fee9e52b860>"
      ]
     },
     "execution_count": 61,
     "metadata": {},
     "output_type": "execute_result"
    }
   ],
   "source": [
    "p = plot(circshift(parent(buf)[:,1], last(indices(buf)[1]) ))"
   ]
  },
  {
   "cell_type": "code",
   "execution_count": 62,
   "metadata": {},
   "outputs": [
    {
     "data": {
      "image/png": "[encoded data removed]",
      "text/plain": [
       "PyPlot.Figure(PyObject <Figure size 640x480 with 1 Axes>)"
      ]
     },
     "metadata": {},
     "output_type": "display_data",
     "source": "julia"
    },
    {
     "data": {
      "text/plain": [
       "1-element Array{PyCall.PyObject,1}:\n",
       " PyObject <matplotlib.lines.Line2D object at 0x7fee9e48c3c8>"
      ]
     },
     "execution_count": 62,
     "metadata": {},
     "output_type": "execute_result"
    }
   ],
   "source": [
    "p = plot(diff(circshift(parent(buf)[:,1], last(indices(buf)[1]) )))"
   ]
  },
  {
   "cell_type": "code",
   "execution_count": null,
   "metadata": {},
   "outputs": [],
   "source": []
  },
  {
   "cell_type": "code",
   "execution_count": 66,
   "metadata": {},
   "outputs": [
    {
     "data": {
      "image/png": "[encoded data removed]",
      "text/plain": [
       "PyPlot.Figure(PyObject <Figure size 640x480 with 1 Axes>)"
      ]
     },
     "metadata": {},
     "output_type": "display_data",
     "source": "julia"
    },
    {
     "data": {
      "text/plain": [
       "1-element Array{PyCall.PyObject,1}:\n",
       " PyObject <matplotlib.lines.Line2D object at 0x7fee9e408048>"
      ]
     },
     "execution_count": 66,
     "metadata": {},
     "output_type": "execute_result"
    }
   ],
   "source": [
    "# 7th: linear_acceleration.z\n",
    "p = plot(circshift(parent(buf)[:,7], last(indices(buf)[1])) )"
   ]
  },
  {
   "cell_type": "code",
   "execution_count": 67,
   "metadata": {},
   "outputs": [
    {
     "name": "stdout",
     "output_type": "stream",
     "text": [
      "  0.000089 seconds (21 allocations: 640 bytes)\n"
     ]
    },
    {
     "data": {
      "text/plain": [
       "SubArray{Float64,1,OffsetArrays.OffsetArray{Float64,2,Array{Float64,2}},Tuple{Int64,Base.Slice{UnitRange{Int64}}},true} with indices 1:7:\n",
       "  1.52396e9\n",
       " -0.0380344\n",
       " -0.338475 \n",
       " -0.204334 \n",
       " -0.20907  \n",
       " -0.0788111\n",
       "  0.334757 "
      ]
     },
     "execution_count": 67,
     "metadata": {},
     "output_type": "execute_result"
    }
   ],
   "source": [
    "# latest values\n",
    "@time @view buf[7,:]"
   ]
  },
  {
   "cell_type": "code",
   "execution_count": 68,
   "metadata": {},
   "outputs": [
    {
     "name": "stdout",
     "output_type": "stream",
     "text": [
      "  0.165802 seconds (75.19 k allocations: 3.855 MiB)\n"
     ]
    },
    {
     "data": {
      "text/plain": [
       "7-element Array{Float64,1}:\n",
       "  1.52396e9  \n",
       " -0.00339041 \n",
       "  6.17104e-5 \n",
       " -0.000324596\n",
       "  0.00270576 \n",
       "  0.00148902 \n",
       "  0.977586   "
      ]
     },
     "execution_count": 68,
     "metadata": {},
     "output_type": "execute_result"
    }
   ],
   "source": [
    "# the before of latest balues\n",
    "@time circshift(parent(buf), last(indices(buf)[1]))[end-1,:]"
   ]
  },
  {
   "cell_type": "code",
   "execution_count": 69,
   "metadata": {},
   "outputs": [
    {
     "name": "stdout",
     "output_type": "stream",
     "text": [
      "  0.000041 seconds (11 allocations: 55.172 KiB)\n"
     ]
    },
    {
     "data": {
      "text/plain": [
       "7-element Array{Float64,1}:\n",
       "  1.52396e9\n",
       " -0.767305 \n",
       " -0.797779 \n",
       " -0.0018232\n",
       " -0.0152498\n",
       "  0.155106 \n",
       "  1.0067   "
      ]
     },
     "execution_count": 69,
     "metadata": {},
     "output_type": "execute_result"
    }
   ],
   "source": [
    "# first values\n",
    "@time circshift(parent(buf), last(indices(buf)[1]))[1,:]"
   ]
  },
  {
   "cell_type": "code",
   "execution_count": null,
   "metadata": {},
   "outputs": [],
   "source": []
  },
  {
   "cell_type": "code",
   "execution_count": 70,
   "metadata": {},
   "outputs": [
    {
     "data": {
      "text/plain": [
       "(12.487500429153442, 1000, (1000,), 12.487500429153442)"
      ]
     },
     "execution_count": 70,
     "metadata": {},
     "output_type": "execute_result"
    }
   ],
   "source": [
    "t = circshift(parent(buf), last(indices(buf)[1]))[:,1]\n",
    "t[end] - t[1], endof(t), size(t), mean(diff(t)) * (size(t)[1] - 1)"
   ]
  },
  {
   "cell_type": "code",
   "execution_count": 71,
   "metadata": {},
   "outputs": [
    {
     "data": {
      "text/plain": [
       "1×6 Array{Float64,2}:\n",
       " -0.000462234  -0.00024776  0.00029634  0.000120839  0.00118441  0.978607"
      ]
     },
     "execution_count": 71,
     "metadata": {},
     "output_type": "execute_result"
    }
   ],
   "source": [
    "x = circshift(parent(buf), last(indices(buf)[1]))[:,2:7]\n",
    "mean(x, 1)"
   ]
  },
  {
   "cell_type": "code",
   "execution_count": null,
   "metadata": {},
   "outputs": [],
   "source": []
  }
 ],
 "metadata": {
  "kernelspec": {
   "display_name": "Julia 0.6.2",
   "language": "julia",
   "name": "julia-0.6"
  },
  "language_info": {
   "file_extension": ".jl",
   "mimetype": "application/julia",
   "name": "julia",
   "version": "0.6.2"
  }
 },
 "nbformat": 4,
 "nbformat_minor": 2
}
